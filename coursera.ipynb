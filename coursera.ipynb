{
 "cells": [
  {
   "cell_type": "markdown",
   "id": "8ed523d9-d985-48a6-933a-fe2c620e2a10",
   "metadata": {},
   "source": [
    "# Coursera Data Science Project"
   ]
  },
  {
   "cell_type": "markdown",
   "id": "4b3d008c-86c8-494c-9fb8-6c0b2071c8b2",
   "metadata": {},
   "source": [
    "Hello World, I am Harlan. I am learning data science."
   ]
  },
  {
   "cell_type": "markdown",
   "id": "6e2e3c27-70bf-4d70-9b87-c50633291f19",
   "metadata": {},
   "source": [
    "## languages\n",
    "Some popular programming languages used in Data Science are:\n",
    "Python\n",
    "R\n",
    "SQL\n",
    "Julia\n",
    "Scala\n",
    "Java\n",
    "MATLAB"
   ]
  },
  {
   "cell_type": "markdown",
   "id": "d024f066-427b-4198-9ea6-16c7eaf2ff40",
   "metadata": {},
   "source": [
    "## Popular Data Science Libraries\n",
    "\n",
    "Python Libraries:\n",
    "NumPy\n",
    "Pandas\n",
    "Matplotlib\n",
    "Seaborn\n",
    "Scikit-learn\n",
    "TensorFlow\n",
    "PyTorch\n",
    "Statsmodels\n",
    "\n",
    "R Libraries:\n",
    "ggplot2\n",
    "dplyr\n",
    "caret\n",
    "randomForest\n",
    "\n",
    "Other Libraries:\n",
    "Apache Spark (Scala)\n",
    "H2O.ai"
   ]
  },
  {
   "cell_type": "markdown",
   "id": "18022905-a406-4e2d-ae67-a3fb242774d2",
   "metadata": {},
   "source": [
    "## Data Science Tools\n",
    "\n",
    "| Tool Name       | Description |\n",
    "|----------------|------------|\n",
    "| Jupyter Notebook | Interactive computing environment for data science |\n",
    "| RStudio        | Integrated development environment (IDE) for R |\n",
    "| Apache Hadoop  | Framework for distributed storage and processing |\n",
    "| Apache Spark   | Big data processing engine |\n",
    "| TensorFlow     | Machine learning and deep learning framework |\n",
    "| PyTorch        | Deep learning framework developed by Facebook |\n",
    "| RapidMiner     | Data science platform for machine learning |\n",
    "| KNIME          | Open-source data analytics platform |"
   ]
  },
  {
   "cell_type": "markdown",
   "id": "c55d4172-0cbe-447c-be6b-f67d71f0e3bf",
   "metadata": {},
   "source": [
    "## Arithmetic Expression Examples\n",
    "\n",
    "Arithmetic expressions include basic mathematical operations such as addition, subtraction, multiplication, and division. \n",
    "- **Addition (+)**: `3 + 5 = 8`\n",
    "- **Subtraction (-)**: `10 - 4 = 6`\n",
    "- **Multiplication (*)**: `6 * 7 = 42`\n",
    "- **Division (/)**: `20 / 4 = 5`\n",
    "- **Exponentiation (** or `pow()`)**: `2 ** 3 = 8` (or `pow(2,3) = 8`)\n",
    "- **Modulus (%)**: `10 % 3 = 1` (remainder when dividing 10 by 3)\n",
    "- **Floor Division (//)**: `17 // 3 = 5` (returns the quotient without the remainder)\n"
   ]
  },
  {
   "cell_type": "code",
   "execution_count": 5,
   "id": "fbac012f-6873-4634-a494-7e40becf5528",
   "metadata": {},
   "outputs": [
    {
     "name": "stdout",
     "output_type": "stream",
     "text": [
      "Multiplication: 15\n",
      "Addition: 8\n"
     ]
    }
   ],
   "source": [
    "#Multiplication and Addition Example\n",
    "a = 5\n",
    "b = 3\n",
    "\n",
    "multiplication_result = a * b\n",
    "addition_result = a + b\n",
    "\n",
    "print(\"Multiplication:\", multiplication_result)\n",
    "print(\"Addition:\", addition_result)"
   ]
  },
  {
   "cell_type": "code",
   "execution_count": 7,
   "id": "1ece5d96-2172-44eb-aec4-fdbf0af598fd",
   "metadata": {},
   "outputs": [
    {
     "name": "stdout",
     "output_type": "stream",
     "text": [
      "60 minutes is equal to 1.00 hours\n"
     ]
    }
   ],
   "source": [
    "# Convert minutes to hours\n",
    "def minutes_to_hours(minutes):\n",
    "    hours = minutes / 60\n",
    "    return hours\n",
    "\n",
    "minutes = 60\n",
    "hours = minutes_to_hours(minutes)\n",
    "\n",
    "print(f\"{minutes} minutes is equal to {hours:.2f} hours\")"
   ]
  },
  {
   "cell_type": "markdown",
   "id": "e7d4f722-a225-420f-a021-a8a541abaa3f",
   "metadata": {},
   "source": [
    "## Objectives\n",
    "\n",
    "- learn popular Data Science languages  \n",
    "- Identify common Data Science libraries  \n",
    "- use Data Science tools  \n",
    "- Perform basic arithmetic operations in Python  \n",
    "- Convert minutes to hours using a Python function（as an example)  "
   ]
  },
  {
   "cell_type": "markdown",
   "id": "33ceafcd-fc0c-4afd-8c75-71eefc079802",
   "metadata": {},
   "source": [
    "## Author  \n",
    "Haoran Li"
   ]
  },
  {
   "cell_type": "code",
   "execution_count": null,
   "id": "15fb1351-98dd-4fd9-a972-fe7092379082",
   "metadata": {},
   "outputs": [],
   "source": []
  }
 ],
 "metadata": {
  "kernelspec": {
   "display_name": "Python 3 (ipykernel)",
   "language": "python",
   "name": "python3"
  },
  "language_info": {
   "codemirror_mode": {
    "name": "ipython",
    "version": 3
   },
   "file_extension": ".py",
   "mimetype": "text/x-python",
   "name": "python",
   "nbconvert_exporter": "python",
   "pygments_lexer": "ipython3",
   "version": "3.8.10"
  }
 },
 "nbformat": 4,
 "nbformat_minor": 5
}
